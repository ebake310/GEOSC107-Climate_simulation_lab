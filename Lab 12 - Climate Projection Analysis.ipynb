{
 "cells": [
  {
   "cell_type": "markdown",
   "id": "c3b87b6a",
   "metadata": {},
   "source": [
    "### Projected Climate Model Data: Working with Multidimensional Datasets in Python\n",
    "\n",
    "This notebook is being run through a Python environment on which certain packages have already been installed to aid with your data analysis. To the left is a folder containing the datasets. Click on that folder to view the datasets we will be working with today. The data files are netcdf files, indicated by the ending .nc at the end of the file name. Such files contain multidimensional (more than two dimensions) of data. In the case of climate model output data, netcfd files contain the latitude, longitude and time, along with various climate variables such as air temperature, precipitation, wind speed, etc. Each different variable is gridded according to the latitude and longitude, so such datasets quickly become very big (terabytes of data). Due to this, we will just be working with average air temperature data in lab today."
   ]
  },
  {
   "cell_type": "markdown",
   "id": "02e82a9e",
   "metadata": {},
   "source": [
    "To run sections of code, click on the Run button above, which has the play button symbol on it. To periodically save your work to your laptop, click the download button under File->Download as->Notebook. You cannot save anything to the actual binder, so DO NOT CLOSE THIS WINDOW until you are done or have downloaded your notebook to use in the future."
   ]
  },
  {
   "cell_type": "code",
   "execution_count": 1,
   "id": "76b41711",
   "metadata": {},
   "outputs": [],
   "source": [
    "# First import the python packages for data analysis, run this block of code using the \"Run\" button above\n",
    "import numpy as np\n",
    "import matplotlib.pyplot as plt\n",
    "import xarray as xr"
   ]
  },
  {
   "cell_type": "code",
   "execution_count": 2,
   "id": "63702a8c",
   "metadata": {},
   "outputs": [],
   "source": [
    "# Open the .nc file and store it as an xarray\n",
    "ds = xr.open_dataset('Lab-climate-data/mme-netcdfs/baseline_tas_annual_mean_1986_2005.nc')"
   ]
  },
  {
   "cell_type": "code",
   "execution_count": 22,
   "id": "8924896a",
   "metadata": {},
   "outputs": [],
   "source": [
    "# View information belonging to the xarray using the print function\n"
   ]
  },
  {
   "cell_type": "code",
   "execution_count": 23,
   "id": "f43076d9",
   "metadata": {},
   "outputs": [],
   "source": [
    "# Access the annual temperature data from the xarray you created and store it as a new variable\n"
   ]
  },
  {
   "cell_type": "code",
   "execution_count": 26,
   "id": "cca9bd8c",
   "metadata": {},
   "outputs": [],
   "source": [
    "# Make a map of global air temperatures, set the figure size so that it is twice as wide as tall\n"
   ]
  },
  {
   "cell_type": "code",
   "execution_count": 31,
   "id": "ffab1507",
   "metadata": {},
   "outputs": [],
   "source": [
    "# Create a scatterplot of the temperature data across all latitudes for each line of longitude\n",
    "\n",
    "# Extract the latitudes\n",
    "\n",
    "\n",
    "# Create numpy array containing longitude values\n",
    "\n",
    "\n",
    "# Extract the temperatures across each longitude using for loop\n",
    "\n",
    "\n",
    "# Add titles and display plot"
   ]
  },
  {
   "cell_type": "code",
   "execution_count": 33,
   "id": "65ff3fa9",
   "metadata": {},
   "outputs": [],
   "source": [
    "# Make a histogram of global mean temperatures\n",
    "\n",
    "# Flatten the data to 1D array \n",
    "\n",
    "\n",
    "# Plot the histogram\n",
    "\n",
    "\n",
    "# Add labels, title, grid, and show the plot\n"
   ]
  },
  {
   "cell_type": "code",
   "execution_count": 34,
   "id": "dd113498",
   "metadata": {},
   "outputs": [],
   "source": [
    "# Calculate the minimum and maximum baseline average temperatures \n"
   ]
  },
  {
   "cell_type": "markdown",
   "id": "a3b86152",
   "metadata": {},
   "source": [
    "### Part II. Comparison with Future Climate Scenarios\n",
    "Next you will look at cmip5 model projections under RCP scenarios 4.5 and 8.5 for the time range of 2040-2059."
   ]
  },
  {
   "cell_type": "code",
   "execution_count": 9,
   "id": "719598f0",
   "metadata": {},
   "outputs": [],
   "source": [
    "# Open the two .nc files, storing them as xarrays with unique names ds_45 and ds_85\n"
   ]
  },
  {
   "cell_type": "code",
   "execution_count": 35,
   "id": "3641cb03",
   "metadata": {},
   "outputs": [],
   "source": [
    "# Use the print function to view the information about one of the xarrays\n"
   ]
  },
  {
   "cell_type": "code",
   "execution_count": 36,
   "id": "1f79e37e",
   "metadata": {},
   "outputs": [],
   "source": [
    "# Extract and store the projected temperature anomaly data for each RCP scenario\n"
   ]
  },
  {
   "cell_type": "code",
   "execution_count": 37,
   "id": "dcb24bbc",
   "metadata": {},
   "outputs": [],
   "source": [
    "# Make a map of projected global air temperature anomalies under RCP 4.5\n"
   ]
  },
  {
   "cell_type": "code",
   "execution_count": 38,
   "id": "717c2818",
   "metadata": {},
   "outputs": [],
   "source": [
    "# Calculate the minimum and maximum anomalies for RCP 4.5 \n"
   ]
  },
  {
   "cell_type": "code",
   "execution_count": 39,
   "id": "3c8cbf7a",
   "metadata": {},
   "outputs": [],
   "source": [
    "# Make a map of global air temperature anomalies under RCP 8.5\n"
   ]
  },
  {
   "cell_type": "code",
   "execution_count": 40,
   "id": "6ec4640e",
   "metadata": {},
   "outputs": [],
   "source": [
    "# Calculate the minimum and maximum anomalies for RCP 8.5 "
   ]
  },
  {
   "cell_type": "markdown",
   "id": "4d93175e",
   "metadata": {},
   "source": [
    "### Use anomaly data to estimate mean annual temperatures in Clinton NY in 2040-2059"
   ]
  },
  {
   "cell_type": "code",
   "execution_count": null,
   "id": "f1bf0414",
   "metadata": {},
   "outputs": [],
   "source": [
    "# Store the coordinates for Hamilton College 43.0484° N, 75.3785° W as two variables, named latitude and longitude\n"
   ]
  },
  {
   "cell_type": "code",
   "execution_count": null,
   "id": "8edaaec4",
   "metadata": {},
   "outputs": [],
   "source": [
    "# Select the data for the specified latitude and longitude\n"
   ]
  },
  {
   "cell_type": "code",
   "execution_count": 43,
   "id": "8acbacea",
   "metadata": {},
   "outputs": [],
   "source": [
    "# Store values in arrays\n",
    "\n",
    "\n",
    "# Create a bar chart\n",
    "\n",
    "\n",
    "# Add title and labels\n",
    "\n",
    "\n",
    "# Show the chart\n"
   ]
  },
  {
   "cell_type": "code",
   "execution_count": 42,
   "id": "34b7b9d3",
   "metadata": {},
   "outputs": [],
   "source": [
    "# Get the calculated mean temperatures for the baseline and two RCP Scenarios\n"
   ]
  },
  {
   "cell_type": "code",
   "execution_count": null,
   "id": "c356eb22",
   "metadata": {},
   "outputs": [],
   "source": []
  }
 ],
 "metadata": {
  "kernelspec": {
   "display_name": "Python 3 (ipykernel)",
   "language": "python",
   "name": "python3"
  },
  "language_info": {
   "codemirror_mode": {
    "name": "ipython",
    "version": 3
   },
   "file_extension": ".py",
   "mimetype": "text/x-python",
   "name": "python",
   "nbconvert_exporter": "python",
   "pygments_lexer": "ipython3",
   "version": "3.11.3"
  }
 },
 "nbformat": 4,
 "nbformat_minor": 5
}
